{
 "cells": [
  {
   "cell_type": "markdown",
   "metadata": {},
   "source": [
    "## Inroduction to Neural Networks\n",
    "___\n",
    "\n",
    "### Today's Approach\n",
    "*Machine learning is taught by academics, for academics.\n",
    "That’s why most material is so dry and math-heavy.*\n",
    "\n",
    "*Developers need to know what works and how to use it.\n",
    "We need less math and more tutorials with working code.*\n",
    "___\n",
    "### Anatomy of a Neural Network\n",
    "Build and Training a Neural Network revolves around the following objects:\n",
    "- **Layers**, which are combined into a network (or model)\n",
    "- **Input data** and corresponding **targets**.\n",
    "- **Loss function**, which defines the feedback signal used for learning\n",
    "- **Optimizer**, which determines how learning proceeds\n",
    "\n",
    "![](images/model.png)\n",
    "\n",
    "#### Layers:\n",
    "The fundamental data structure in neural networks is the layer. You can think of layers as the LEGO bricks of Deep learning, a metaphor that is made explicit by frameworks like keras. Some of the layers are \n",
    "- Dense or Fully connected layers (Dense).\n",
    "- Convolution layers (Conv2D, Conv1D).\n",
    "- Recurrent layers (RNN, LSTM, GRU).\n",
    "\n",
    "In Keras you don't have to care about **compatibility** between the layers because the layers you add to your models are dynamically built to match the shape of the incoming layer."
   ]
  },
  {
   "cell_type": "code",
   "execution_count": 2,
   "metadata": {},
   "outputs": [],
   "source": [
    "from keras.models import Sequential\n",
    "from keras.layers import Dense\n",
    "\n",
    "model = Sequential()\n",
    "model.add(Dense(32, input_shape=(28*28,)))"
   ]
  },
  {
   "cell_type": "markdown",
   "metadata": {},
   "source": [
    "#### Loss Functions and Optimizers\n",
    "\n",
    "Once the network architecture is defined, you have to choose two major things:\n",
    "- Loss function (objective function) - The quantity that will be minmized during training. It represents a measure of successs for the task at hand.\n",
    "- Optimizer - Determines how the network will be updated based on the loss function. It implements a specific variant of stocastic gradient descent(SGD).\n",
    "\n",
    "Choosing the right objective function for the right problem is extremely important: your network will take any shortcut it can, to minimize the loss; so if the objective doesn’t fully correlate with success for the task at hand, your network will end up doing things you may not have wanted.\n",
    "\n",
    "Fortunately, when it comes to common problems such as classification, regression, and sequence  prediction, there are simple guidelines you can follow to choose the correct loss. For instance,  you’ll use *binary_crossentropy* for a *two-class classification* problem, *categorical_crossentropy* for a *many-class classification* problem, *mean-squared error* for a *regression problem*, connectionist temporal classification(CTC) for a sequence-learning problem, and so on. \n",
    "\n",
    "Note: *Crossentropy* is a quantity from the field of Information Theory that measures the distance between probability distributions or, in this case, between the ground-truth distribution and your predictions."
   ]
  },
  {
   "cell_type": "code",
   "execution_count": null,
   "metadata": {},
   "outputs": [],
   "source": [
    "## Using optimizer with default settings \n",
    "model.compile('rmsprop', 'mse', \n",
    "               metrics=['accuracy'])"
   ]
  },
  {
   "cell_type": "code",
   "execution_count": null,
   "metadata": {},
   "outputs": [],
   "source": [
    "## Using optimizer with custom argument values\n",
    "from keras.optimizers import RMSprop\n",
    "\n",
    "model.compile(optimizer=RMSprop(),\n",
    "              loss='mse'.\n",
    "              metrics = ['accuracy']\n",
    "             )"
   ]
  },
  {
   "cell_type": "markdown",
   "metadata": {},
   "source": [
    "### Building your network\n",
    "\n",
    "You can intuitively understand teh dimensionality of your model as \"how much freedom you're allowing the network to have when learning internal representations\". Having more hidden units allows the model to learn more-complex representations/functions, but it makes the network more computationally expensive and may lead to learning unwanted patterns.\n",
    "\n",
    "There are two key architecture decisions to be made about such a stack of Dense layers:\n",
    "- How many layers to use\n",
    "- How many hidden units to choose for each layer\n",
    "\n",
    "All the intermediate layers will use an **Activation Function** like *relu*. Without an activation function, The *Dense* layer would consist of two linear operations - a dot product and an addition.\n",
    "\n",
    "So the layer could only learn linear transformations of the input data. Such a model is to restricted and wouldn't benefit from multiple layers fo representations, because a deep stack of linear layers would still implement a linear operation: adding more layers wouldn't extend the learning ability of the model.\n",
    "\n",
    "In order to get access to a much richer network that would benefit from deep representaions, you need a non-linearity or activation function. *relu* is the most popular activation function, but there are many other candidates."
   ]
  },
  {
   "cell_type": "markdown",
   "metadata": {},
   "source": [
    "## Regression problem : Predicting house prices \n",
    "\n",
    "#### Loading the data"
   ]
  },
  {
   "cell_type": "code",
   "execution_count": 3,
   "metadata": {},
   "outputs": [],
   "source": [
    "from keras.datasets import boston_housing"
   ]
  },
  {
   "cell_type": "code",
   "execution_count": 4,
   "metadata": {},
   "outputs": [
    {
     "name": "stdout",
     "output_type": "stream",
     "text": [
      "Downloading data from https://s3.amazonaws.com/keras-datasets/boston_housing.npz\n",
      "57344/57026 [==============================] - 0s 7us/step\n"
     ]
    }
   ],
   "source": [
    "(X_train, y_train), (X_test, y_test) = boston_housing.load_data()"
   ]
  },
  {
   "cell_type": "code",
   "execution_count": 5,
   "metadata": {},
   "outputs": [
    {
     "data": {
      "text/plain": [
       "(404, 13)"
      ]
     },
     "execution_count": 5,
     "metadata": {},
     "output_type": "execute_result"
    }
   ],
   "source": [
    "X_train.shape"
   ]
  },
  {
   "cell_type": "code",
   "execution_count": 8,
   "metadata": {},
   "outputs": [
    {
     "data": {
      "text/plain": [
       "array([15.2, 42.3, 50. , 21.1, 17.7, 18.5, 11.3, 15.6, 15.6, 14.4])"
      ]
     },
     "execution_count": 8,
     "metadata": {},
     "output_type": "execute_result"
    }
   ],
   "source": [
    "y_train[:10]"
   ]
  },
  {
   "cell_type": "code",
   "execution_count": 6,
   "metadata": {},
   "outputs": [
    {
     "data": {
      "text/plain": [
       "(102, 13)"
      ]
     },
     "execution_count": 6,
     "metadata": {},
     "output_type": "execute_result"
    }
   ],
   "source": [
    "X_test.shape"
   ]
  },
  {
   "cell_type": "code",
   "execution_count": 10,
   "metadata": {},
   "outputs": [
    {
     "data": {
      "text/plain": [
       "array([ 7.2, 18.8, 19. , 27. , 22.2, 24.5, 31.2, 22.9, 20.5, 23.2])"
      ]
     },
     "execution_count": 10,
     "metadata": {},
     "output_type": "execute_result"
    }
   ],
   "source": [
    "y_test[:10]"
   ]
  },
  {
   "cell_type": "markdown",
   "metadata": {},
   "source": [
    "#### Preparing the data (Normalizing)"
   ]
  },
  {
   "cell_type": "code",
   "execution_count": 12,
   "metadata": {},
   "outputs": [],
   "source": [
    "from sklearn.preprocessing import StandardScaler"
   ]
  },
  {
   "cell_type": "code",
   "execution_count": 13,
   "metadata": {},
   "outputs": [],
   "source": [
    "scaler = StandardScaler()\n",
    "\n",
    "X_train = scaler.fit_transform(X_train)\n",
    "X_test = scaler.transform(X_test)"
   ]
  },
  {
   "cell_type": "markdown",
   "metadata": {},
   "source": [
    "#### Building the Model"
   ]
  },
  {
   "cell_type": "code",
   "execution_count": 14,
   "metadata": {},
   "outputs": [],
   "source": [
    "from keras.models import Sequential\n",
    "from keras.layers import Dense"
   ]
  },
  {
   "cell_type": "code",
   "execution_count": 17,
   "metadata": {},
   "outputs": [],
   "source": [
    "model = Sequential()\n",
    "model.add(Dense(64, activation='relu', input_shape=(13,)))\n",
    "model.add(Dense(64, activation='relu'))\n",
    "model.add(Dense(1))\n",
    "\n",
    "model.compile('rmsprop', 'mse', metrics=['mae']) # Mean Absolute Error"
   ]
  },
  {
   "cell_type": "code",
   "execution_count": 20,
   "metadata": {},
   "outputs": [
    {
     "name": "stdout",
     "output_type": "stream",
     "text": [
      "Train on 404 samples, validate on 102 samples\n",
      "Epoch 1/20\n",
      "404/404 [==============================] - 0s 58us/step - loss: 11.4336 - mean_absolute_error: 2.4254 - val_loss: 21.0266 - val_mean_absolute_error: 3.2123\n",
      "Epoch 2/20\n",
      "404/404 [==============================] - 0s 68us/step - loss: 11.0175 - mean_absolute_error: 2.3326 - val_loss: 21.0281 - val_mean_absolute_error: 3.1899\n",
      "Epoch 3/20\n",
      "404/404 [==============================] - 0s 61us/step - loss: 10.7472 - mean_absolute_error: 2.3183 - val_loss: 21.7213 - val_mean_absolute_error: 3.2007\n",
      "Epoch 4/20\n",
      "404/404 [==============================] - 0s 65us/step - loss: 10.6210 - mean_absolute_error: 2.3485 - val_loss: 20.3379 - val_mean_absolute_error: 3.0850\n",
      "Epoch 5/20\n",
      "404/404 [==============================] - 0s 70us/step - loss: 10.4255 - mean_absolute_error: 2.2743 - val_loss: 21.4862 - val_mean_absolute_error: 3.1515\n",
      "Epoch 6/20\n",
      "404/404 [==============================] - 0s 58us/step - loss: 10.2094 - mean_absolute_error: 2.2631 - val_loss: 22.5731 - val_mean_absolute_error: 3.2342\n",
      "Epoch 7/20\n",
      "404/404 [==============================] - 0s 44us/step - loss: 9.8882 - mean_absolute_error: 2.2615 - val_loss: 20.9079 - val_mean_absolute_error: 3.0590\n",
      "Epoch 8/20\n",
      "404/404 [==============================] - 0s 54us/step - loss: 9.8964 - mean_absolute_error: 2.2469 - val_loss: 20.6660 - val_mean_absolute_error: 3.0464\n",
      "Epoch 9/20\n",
      "404/404 [==============================] - 0s 51us/step - loss: 9.7442 - mean_absolute_error: 2.2300 - val_loss: 21.2716 - val_mean_absolute_error: 3.1058\n",
      "Epoch 10/20\n",
      "404/404 [==============================] - 0s 46us/step - loss: 9.4868 - mean_absolute_error: 2.2015 - val_loss: 21.4777 - val_mean_absolute_error: 3.0917\n",
      "Epoch 11/20\n",
      "404/404 [==============================] - 0s 65us/step - loss: 9.3873 - mean_absolute_error: 2.1965 - val_loss: 21.6247 - val_mean_absolute_error: 3.0682\n",
      "Epoch 12/20\n",
      "404/404 [==============================] - 0s 49us/step - loss: 9.3912 - mean_absolute_error: 2.2051 - val_loss: 21.8044 - val_mean_absolute_error: 3.0950\n",
      "Epoch 13/20\n",
      "404/404 [==============================] - 0s 60us/step - loss: 9.2252 - mean_absolute_error: 2.1772 - val_loss: 21.1618 - val_mean_absolute_error: 3.0595\n",
      "Epoch 14/20\n",
      "404/404 [==============================] - 0s 59us/step - loss: 9.3470 - mean_absolute_error: 2.1764 - val_loss: 20.5621 - val_mean_absolute_error: 3.0036\n",
      "Epoch 15/20\n",
      "404/404 [==============================] - 0s 61us/step - loss: 8.9354 - mean_absolute_error: 2.1390 - val_loss: 20.5522 - val_mean_absolute_error: 3.0011\n",
      "Epoch 16/20\n",
      "404/404 [==============================] - 0s 55us/step - loss: 9.2197 - mean_absolute_error: 2.1543 - val_loss: 21.2897 - val_mean_absolute_error: 3.0372\n",
      "Epoch 17/20\n",
      "404/404 [==============================] - 0s 55us/step - loss: 8.8811 - mean_absolute_error: 2.1285 - val_loss: 20.4540 - val_mean_absolute_error: 2.9632\n",
      "Epoch 18/20\n",
      "404/404 [==============================] - 0s 56us/step - loss: 8.7131 - mean_absolute_error: 2.0891 - val_loss: 20.5874 - val_mean_absolute_error: 3.0175\n",
      "Epoch 19/20\n",
      "404/404 [==============================] - 0s 66us/step - loss: 8.8186 - mean_absolute_error: 2.1098 - val_loss: 19.7686 - val_mean_absolute_error: 3.0071\n",
      "Epoch 20/20\n",
      "404/404 [==============================] - 0s 57us/step - loss: 8.5883 - mean_absolute_error: 2.0870 - val_loss: 22.6881 - val_mean_absolute_error: 3.1090\n"
     ]
    },
    {
     "data": {
      "text/plain": [
       "<keras.callbacks.History at 0x7f8bcc74c828>"
      ]
     },
     "execution_count": 20,
     "metadata": {},
     "output_type": "execute_result"
    }
   ],
   "source": [
    "model.fit(X_train, y_train, epochs=20, validation_data=(X_test, y_test))"
   ]
  },
  {
   "cell_type": "code",
   "execution_count": 21,
   "metadata": {},
   "outputs": [
    {
     "name": "stdout",
     "output_type": "stream",
     "text": [
      "102/102 [==============================] - 0s 45us/step\n"
     ]
    },
    {
     "data": {
      "text/plain": [
       "[22.68811184752221, 3.109004516227573]"
      ]
     },
     "execution_count": 21,
     "metadata": {},
     "output_type": "execute_result"
    }
   ],
   "source": [
    "model.evaluate(X_test, y_test)"
   ]
  },
  {
   "cell_type": "markdown",
   "metadata": {},
   "source": [
    "## Binary classification problem : Dummy dataset\n"
   ]
  },
  {
   "cell_type": "code",
   "execution_count": 44,
   "metadata": {},
   "outputs": [],
   "source": [
    "%matplotlib inline\n",
    "import matplotlib.pyplot as plt\n",
    "import pandas as pd\n",
    "import numpy as np"
   ]
  },
  {
   "cell_type": "markdown",
   "metadata": {},
   "source": [
    "#### Preparing data"
   ]
  },
  {
   "cell_type": "code",
   "execution_count": 45,
   "metadata": {},
   "outputs": [
    {
     "data": {
      "text/plain": [
       "<matplotlib.legend.Legend at 0x7f8bc50ff588>"
      ]
     },
     "execution_count": 45,
     "metadata": {},
     "output_type": "execute_result"
    },
    {
     "data": {
      "image/png": "[encoded data removed]",
      "text/plain": [
       "<Figure size 432x288 with 1 Axes>"
      ]
     },
     "metadata": {
      "needs_background": "light"
     },
     "output_type": "display_data"
    }
   ],
   "source": [
    "from sklearn.datasets import make_moons\n",
    "\n",
    "X, y = make_moons(n_samples=1000, noise=0.1, random_state=0)\n",
    "plt.plot(X[y==0, 0], X[y==0, 1], 'ob', alpha=0.5)\n",
    "plt.plot(X[y==1, 0], X[y==1, 1], 'xr', alpha=0.5)\n",
    "plt.legend(['0', '1'])"
   ]
  },
  {
   "cell_type": "code",
   "execution_count": 192,
   "metadata": {},
   "outputs": [
    {
     "data": {
      "text/plain": [
       "(1000, 2)"
      ]
     },
     "execution_count": 192,
     "metadata": {},
     "output_type": "execute_result"
    }
   ],
   "source": [
    "X.shape"
   ]
  },
  {
   "cell_type": "code",
   "execution_count": 193,
   "metadata": {},
   "outputs": [],
   "source": [
    "from sklearn.model_selection import train_test_split"
   ]
  },
  {
   "cell_type": "code",
   "execution_count": 46,
   "metadata": {},
   "outputs": [],
   "source": [
    "X_train, X_test, y_train, y_test = train_test_split(X, y,\n",
    "                                                    test_size=0.3,\n",
    "                                                    random_state=42)"
   ]
  },
  {
   "cell_type": "code",
   "execution_count": 202,
   "metadata": {},
   "outputs": [],
   "source": [
    "model = Sequential()\n",
    "model.add(Dense(4, input_shape=(2,), activation='tanh'))\n",
    "model.add(Dense(2, activation='tanh'))\n",
    "model.add(Dense(1, activation='sigmoid'))\n",
    "model.compile(Adam(lr=0.05), 'binary_crossentropy', metrics=['accuracy'])"
   ]
  },
  {
   "cell_type": "code",
   "execution_count": 203,
   "metadata": {},
   "outputs": [
    {
     "data": {
      "text/plain": [
       "<keras.callbacks.History at 0x7f89889a55c0>"
      ]
     },
     "execution_count": 203,
     "metadata": {},
     "output_type": "execute_result"
    }
   ],
   "source": [
    "model.fit(X_train, y_train, epochs=100, verbose=0)"
   ]
  },
  {
   "cell_type": "code",
   "execution_count": 204,
   "metadata": {},
   "outputs": [
    {
     "name": "stdout",
     "output_type": "stream",
     "text": [
      " 32/300 [==>...........................] - ETA: 3s"
     ]
    },
    {
     "data": {
      "text/plain": [
       "[0.010121442064022025, 0.9933333333333333]"
      ]
     },
     "execution_count": 204,
     "metadata": {},
     "output_type": "execute_result"
    }
   ],
   "source": [
    "model.evaluate(X_test, y_test)"
   ]
  },
  {
   "cell_type": "code",
   "execution_count": 205,
   "metadata": {},
   "outputs": [],
   "source": [
    "from sklearn.metrics import accuracy_score, confusion_matrix"
   ]
  },
  {
   "cell_type": "code",
   "execution_count": 206,
   "metadata": {},
   "outputs": [
    {
     "name": "stdout",
     "output_type": "stream",
     "text": [
      " 32/300 [==>...........................] - ETA: 0sThe Accuracy score on the Train set is:\t0.997\n",
      "The Accuracy score on the Test set is:\t0.993\n"
     ]
    }
   ],
   "source": [
    "y_train_pred = model.predict_classes(X_train)\n",
    "y_test_pred = model.predict_classes(X_test)\n",
    "\n",
    "print(\"The Accuracy score on the Train set is:\\t{:0.3f}\".format(accuracy_score(y_train, y_train_pred)))\n",
    "print(\"The Accuracy score on the Test set is:\\t{:0.3f}\".format(accuracy_score(y_test, y_test_pred)))"
   ]
  },
  {
   "cell_type": "code",
   "execution_count": 207,
   "metadata": {},
   "outputs": [
    {
     "data": {
      "image/png": "[encoded data removed]",
      "text/plain": [
       "<Figure size 864x576 with 1 Axes>"
      ]
     },
     "metadata": {
      "needs_background": "light"
     },
     "output_type": "display_data"
    }
   ],
   "source": [
    "plot_decision_boundary(model, X, y)"
   ]
  },
  {
   "cell_type": "markdown",
   "metadata": {},
   "source": [
    "## Multiclass classification Problem : MNIST dataset"
   ]
  },
  {
   "cell_type": "code",
   "execution_count": 2,
   "metadata": {},
   "outputs": [
    {
     "name": "stderr",
     "output_type": "stream",
     "text": [
      "Using TensorFlow backend.\n"
     ]
    }
   ],
   "source": [
    "from keras.datasets import mnist"
   ]
  },
  {
   "cell_type": "code",
   "execution_count": 83,
   "metadata": {},
   "outputs": [],
   "source": [
    "(X_train, y_train), (X_test, y_test) = mnist.load_data('/tmp/mnist.npz')"
   ]
  },
  {
   "cell_type": "code",
   "execution_count": 84,
   "metadata": {},
   "outputs": [
    {
     "data": {
      "text/plain": [
       "(60000, 28, 28)"
      ]
     },
     "execution_count": 84,
     "metadata": {},
     "output_type": "execute_result"
    }
   ],
   "source": [
    "X_train.shape"
   ]
  },
  {
   "cell_type": "code",
   "execution_count": 85,
   "metadata": {},
   "outputs": [
    {
     "data": {
      "text/plain": [
       "(10000, 28, 28)"
      ]
     },
     "execution_count": 85,
     "metadata": {},
     "output_type": "execute_result"
    }
   ],
   "source": [
    "X_test.shape"
   ]
  },
  {
   "cell_type": "code",
   "execution_count": 7,
   "metadata": {},
   "outputs": [
    {
     "data": {
      "text/plain": [
       "<matplotlib.image.AxesImage at 0x7f000b58fcf8>"
      ]
     },
     "execution_count": 7,
     "metadata": {},
     "output_type": "execute_result"
    },
    {
     "data": {
      "image/png": "[encoded data removed]",
      "text/plain": [
       "<Figure size 432x288 with 1 Axes>"
      ]
     },
     "metadata": {
      "needs_background": "light"
     },
     "output_type": "display_data"
    }
   ],
   "source": [
    "plt.imshow(X_train[0], cmap='gray')"
   ]
  },
  {
   "cell_type": "code",
   "execution_count": 86,
   "metadata": {},
   "outputs": [],
   "source": [
    "X_train = X_train.reshape(-1, 28*28)\n",
    "X_test = X_test.reshape(-1, 28*28)"
   ]
  },
  {
   "cell_type": "code",
   "execution_count": 9,
   "metadata": {},
   "outputs": [
    {
     "data": {
      "text/plain": [
       "(60000, 784)"
      ]
     },
     "execution_count": 9,
     "metadata": {},
     "output_type": "execute_result"
    }
   ],
   "source": [
    "X_train.shape"
   ]
  },
  {
   "cell_type": "code",
   "execution_count": 87,
   "metadata": {},
   "outputs": [],
   "source": [
    "X_train = X_train.astype('float32')\n",
    "X_test = X_test.astype('float32')\n",
    "X_train /= 255.0\n",
    "X_test /= 255.0"
   ]
  },
  {
   "cell_type": "code",
   "execution_count": 12,
   "metadata": {},
   "outputs": [],
   "source": [
    "from keras.utils.np_utils import to_categorical"
   ]
  },
  {
   "cell_type": "code",
   "execution_count": 88,
   "metadata": {},
   "outputs": [],
   "source": [
    "y_train_cat = to_categorical(y_train)\n",
    "y_test_cat = to_categorical(y_test)"
   ]
  },
  {
   "cell_type": "code",
   "execution_count": 14,
   "metadata": {},
   "outputs": [
    {
     "data": {
      "text/plain": [
       "5"
      ]
     },
     "execution_count": 14,
     "metadata": {},
     "output_type": "execute_result"
    }
   ],
   "source": [
    "y_train[0]"
   ]
  },
  {
   "cell_type": "code",
   "execution_count": 15,
   "metadata": {},
   "outputs": [
    {
     "data": {
      "text/plain": [
       "array([0., 0., 0., 0., 0., 1., 0., 0., 0., 0.])"
      ]
     },
     "execution_count": 15,
     "metadata": {},
     "output_type": "execute_result"
    }
   ],
   "source": [
    "y_train_cat[0]"
   ]
  },
  {
   "cell_type": "code",
   "execution_count": 16,
   "metadata": {},
   "outputs": [
    {
     "data": {
      "text/plain": [
       "(60000, 10)"
      ]
     },
     "execution_count": 16,
     "metadata": {},
     "output_type": "execute_result"
    }
   ],
   "source": [
    "y_train_cat.shape"
   ]
  },
  {
   "cell_type": "code",
   "execution_count": 17,
   "metadata": {},
   "outputs": [
    {
     "data": {
      "text/plain": [
       "(10000, 10)"
      ]
     },
     "execution_count": 17,
     "metadata": {},
     "output_type": "execute_result"
    }
   ],
   "source": [
    "y_test_cat.shape"
   ]
  },
  {
   "cell_type": "markdown",
   "metadata": {},
   "source": [
    "### Fully connected on images"
   ]
  },
  {
   "cell_type": "code",
   "execution_count": 18,
   "metadata": {},
   "outputs": [],
   "source": [
    "from keras.models import Sequential\n",
    "from keras.layers import Dense\n",
    "import keras.backend as K\n",
    "\n",
    "K.clear_session()\n",
    "\n",
    "model = Sequential()\n",
    "model.add(Dense(512, input_dim=28*28, activation='relu'))\n",
    "model.add(Dense(256, activation='relu'))\n",
    "model.add(Dense(128, activation='relu'))\n",
    "model.add(Dense(32, activation='relu'))\n",
    "model.add(Dense(10, activation='softmax'))\n",
    "model.compile(loss='categorical_crossentropy',\n",
    "              optimizer='rmsprop',\n",
    "              metrics=['accuracy'])\n"
   ]
  },
  {
   "cell_type": "code",
   "execution_count": 19,
   "metadata": {},
   "outputs": [
    {
     "name": "stdout",
     "output_type": "stream",
     "text": [
      "Train on 42000 samples, validate on 18000 samples\n",
      "Epoch 1/10\n",
      "42000/42000 [==============================] - 8s - loss: 0.3301 - acc: 0.8975 - val_loss: 0.1983 - val_acc: 0.9376\n",
      "Epoch 2/10\n",
      "42000/42000 [==============================] - 7s - loss: 0.1139 - acc: 0.9654 - val_loss: 0.1159 - val_acc: 0.9652\n",
      "Epoch 3/10\n",
      "42000/42000 [==============================] - 8s - loss: 0.0730 - acc: 0.9773 - val_loss: 0.1593 - val_acc: 0.9575\n",
      "Epoch 4/10\n",
      "42000/42000 [==============================] - 8s - loss: 0.0522 - acc: 0.9842 - val_loss: 0.1028 - val_acc: 0.9727\n",
      "Epoch 5/10\n",
      "42000/42000 [==============================] - 7s - loss: 0.0398 - acc: 0.9876 - val_loss: 0.1318 - val_acc: 0.9667\n",
      "Epoch 6/10\n",
      "42000/42000 [==============================] - 7s - loss: 0.0313 - acc: 0.9907 - val_loss: 0.1672 - val_acc: 0.9537\n",
      "Epoch 7/10\n",
      "42000/42000 [==============================] - 7s - loss: 0.0249 - acc: 0.9926 - val_loss: 0.1220 - val_acc: 0.9739\n",
      "Epoch 8/10\n",
      "42000/42000 [==============================] - 7s - loss: 0.0214 - acc: 0.9935 - val_loss: 0.1471 - val_acc: 0.9708\n",
      "Epoch 9/10\n",
      "42000/42000 [==============================] - 7s - loss: 0.0189 - acc: 0.9944 - val_loss: 0.1213 - val_acc: 0.9780\n",
      "Epoch 10/10\n",
      "42000/42000 [==============================] - 7s - loss: 0.0159 - acc: 0.9955 - val_loss: 0.1385 - val_acc: 0.9764\n"
     ]
    }
   ],
   "source": [
    "h = model.fit(X_train, y_train_cat, batch_size=128, epochs=10, verbose=1, validation_split=0.3)"
   ]
  },
  {
   "cell_type": "code",
   "execution_count": 20,
   "metadata": {},
   "outputs": [
    {
     "data": {
      "text/plain": [
       "Text(0.5, 0, 'Epochs')"
      ]
     },
     "execution_count": 20,
     "metadata": {},
     "output_type": "execute_result"
    },
    {
     "data": {
      "image/png": "[encoded data removed]",
      "text/plain": [
       "<Figure size 432x288 with 1 Axes>"
      ]
     },
     "metadata": {
      "needs_background": "light"
     },
     "output_type": "display_data"
    }
   ],
   "source": [
    "plt.plot(h.history['acc'])\n",
    "plt.plot(h.history['val_acc'])\n",
    "plt.legend(['Training', 'Validation'])\n",
    "plt.title('Accuracy')\n",
    "plt.xlabel('Epochs')"
   ]
  },
  {
   "cell_type": "code",
   "execution_count": 21,
   "metadata": {},
   "outputs": [
    {
     "name": "stdout",
     "output_type": "stream",
     "text": [
      " 9888/10000 [============================>.] - ETA: 0s"
     ]
    },
    {
     "data": {
      "text/plain": [
       "0.9789"
      ]
     },
     "execution_count": 21,
     "metadata": {},
     "output_type": "execute_result"
    }
   ],
   "source": [
    "test_accuracy = model.evaluate(X_test, y_test_cat)[1]\n",
    "test_accuracy"
   ]
  },
  {
   "cell_type": "code",
   "execution_count": null,
   "metadata": {},
   "outputs": [],
   "source": []
  }
 ],
 "metadata": {
  "kernelspec": {
   "display_name": "Python 3",
   "language": "python",
   "name": "python3"
  },
  "language_info": {
   "codemirror_mode": {
    "name": "ipython",
    "version": 3
   },
   "file_extension": ".py",
   "mimetype": "text/x-python",
   "name": "python",
   "nbconvert_exporter": "python",
   "pygments_lexer": "ipython3",
   "version": "3.6.6"
  }
 },
 "nbformat": 4,
 "nbformat_minor": 2
}
