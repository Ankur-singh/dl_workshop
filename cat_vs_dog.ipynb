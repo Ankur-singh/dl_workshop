{
  "cells": [
    {
      "metadata": {
        "_uuid": "8f2839f25d086af736a60e9eeb907d3b93b6e0e5",
        "_cell_guid": "b1076dfc-b9ad-4769-8c92-a6c4dae69d19",
        "trusted": true
      },
      "cell_type": "code",
      "source": "# This Python 3 environment comes with many helpful analytics libraries installed\n# It is defined by the kaggle/python docker image: https://github.com/kaggle/docker-python\n# For example, here's several helpful packages to load in \n\nimport numpy as np # linear algebra\nimport pandas as pd # data processing, CSV file I/O (e.g. pd.read_csv)\n\n# Input data files are available in the \"../input/\" directory.\n# For example, running this (by clicking run or pressing Shift+Enter) will list the files in the input directory\n\nimport os\nprint(os.listdir(\"../input\"))\n\n# Any results you write to the current directory are saved as output.",
      "execution_count": null,
      "outputs": []
    },
    {
      "metadata": {
        "_cell_guid": "79c7e3d0-c299-4dcb-8224-4455121ee9b0",
        "_uuid": "d629ff2d2480ee46fbb7e2d37f6b5fab8052498a",
        "trusted": true
      },
      "cell_type": "code",
      "source": "!ls ../input/training_set/training_set/",
      "execution_count": null,
      "outputs": []
    },
    {
      "metadata": {
        "trusted": true,
        "_uuid": "5a08e22b67c121fb7634eb6a2c4c829ab53a212e"
      },
      "cell_type": "code",
      "source": "import matplotlib.pyplot as plt",
      "execution_count": null,
      "outputs": []
    },
    {
      "metadata": {
        "trusted": true,
        "_uuid": "a0e52420e02a6bd601fa3cc736df5f0c6e52988d"
      },
      "cell_type": "code",
      "source": "img = plt.imread('../input/training_set/training_set/cats/cat.1.jpg')\nimg.shape",
      "execution_count": null,
      "outputs": []
    },
    {
      "metadata": {
        "trusted": true,
        "_uuid": "c4b7279ce7eda1fd812e8394ebe9499bbd35bc07"
      },
      "cell_type": "markdown",
      "source": "### Builiding the model"
    },
    {
      "metadata": {
        "trusted": true,
        "_uuid": "b687bbc9bdb3921d4ea35038815de23229f77d42"
      },
      "cell_type": "code",
      "source": "from keras.models import Sequential\nfrom keras.layers import Dense, Conv2D, MaxPool2D, Flatten, Dropout\nfrom keras.optimizers import Adam, RMSprop\nfrom keras.preprocessing import image",
      "execution_count": null,
      "outputs": []
    },
    {
      "metadata": {
        "trusted": true,
        "_uuid": "632bd49667db3da5e6cd055a1dac26a660d5be10"
      },
      "cell_type": "code",
      "source": "model = Sequential()\nmodel.add(Conv2D(32, (3,3), activation='relu', input_shape=(150, 150, 3)))\nmodel.add(Conv2D(32, (3,3), activation='relu'))\nmodel.add(MaxPool2D(2,2))\nmodel.add(Dropout(0.2))\nmodel.add(Conv2D(64, (3,3), activation='relu'))\nmodel.add(Conv2D(64, (3,3), activation='relu'))\nmodel.add(MaxPool2D(2,2))\nmodel.add(Dropout(0.2))\nmodel.add(Flatten())\n\nmodel.add(Dense(512, activation='relu'))\nmodel.add(Dense(64, activation='relu'))\nmodel.add(Dense(1, activation='sigmoid'))",
      "execution_count": null,
      "outputs": []
    },
    {
      "metadata": {
        "trusted": true,
        "_uuid": "b1cd3af952b9affa955274140d2dd13839a60727"
      },
      "cell_type": "code",
      "source": "model.compile(RMSprop(0.0001), 'binary_crossentropy', metrics=['acc'])",
      "execution_count": null,
      "outputs": []
    },
    {
      "metadata": {
        "_uuid": "575556ab2646949527a4cdee66a22d138359da17"
      },
      "cell_type": "markdown",
      "source": "### Preparing data"
    },
    {
      "metadata": {
        "trusted": true,
        "_uuid": "314f93538b2a0e9f1a67d723d6b351c110b7802e"
      },
      "cell_type": "code",
      "source": "from keras.preprocessing.image import ImageDataGenerator",
      "execution_count": null,
      "outputs": []
    },
    {
      "metadata": {
        "trusted": true,
        "_uuid": "fe0cf057a07fb904b0688b8bc0bb507a8e637410"
      },
      "cell_type": "code",
      "source": "train_dir = '../input/training_set/training_set/'\ntest_dir = '../input/test_set/test_set/'",
      "execution_count": null,
      "outputs": []
    },
    {
      "metadata": {
        "trusted": true,
        "_uuid": "7645b24909055bab2a279e3467fb029025635943"
      },
      "cell_type": "code",
      "source": "train_generator = ImageDataGenerator(rescale=1./255)\ntrain = train_generator.flow_from_directory(train_dir,\n                                         target_size=(150,150), \n                                         batch_size=32,\n                                         class_mode='binary')\n\ntest_generator = ImageDataGenerator(rescale=1./255)\ntest = test_generator.flow_from_directory(test_dir,\n                                         target_size=(150,150), \n                                         batch_size=32,\n                                         class_mode='binary')",
      "execution_count": null,
      "outputs": []
    },
    {
      "metadata": {
        "_uuid": "c35078acb1f5b27a2c0bd3786f64a48cca3ede5f"
      },
      "cell_type": "markdown",
      "source": "### Training the model"
    },
    {
      "metadata": {
        "trusted": true,
        "_uuid": "f8385399f21c6a6d7a636fc0c6e0183b11f01a5b"
      },
      "cell_type": "code",
      "source": "model.fit_generator(train, steps_per_epoch=20, epochs=20, validation_data=test, validation_steps=2)",
      "execution_count": null,
      "outputs": []
    },
    {
      "metadata": {
        "trusted": true,
        "_uuid": "583f48859342fe14c132a40153a56d67c944fcaa"
      },
      "cell_type": "code",
      "source": "plt.plot(range(20), model.history.history['acc'])\nplt.plot(range(20), model.history.history['val_acc'])\nplt.legend(['acc', 'val_acc'])",
      "execution_count": null,
      "outputs": []
    },
    {
      "metadata": {
        "trusted": true,
        "_uuid": "ea0e3979d436593e328d808e19d3f72e76e0dbfe"
      },
      "cell_type": "markdown",
      "source": "### Data Augmentation with keras ImageDataGenerator\n\nNow we have a clear idea that our model is overfitting .  Overfitting is caused by having too few samples to learn from. Given infinite data, your model would be exposed to every possible aspect of the data distribution at hand. In such situations we can use data augmentation.\n\nData Augmentation takes the approach of generating more training data from existing training samples, by augmenting the samples via a number of random transformations that yield believable-loking images, The goal is that at training time, your model will never see the exact same picture twice. This helps expose the model to more aspects of the data and generalize better.\n\nIn keras, its super easy!!"
    },
    {
      "metadata": {
        "trusted": true,
        "_uuid": "0424d38a8f019b9d72eec616fea794740588fe6d"
      },
      "cell_type": "code",
      "source": "datagen = image.ImageDataGenerator( rotation_range=40,\n                              width_shift_range=0.2,\n                              height_shift_range=0.2,\n                              shear_range=0.2,\n                              zoom_range=0.2,\n                              horizontal_flip=True,\n                              fill_mode='nearest')",
      "execution_count": null,
      "outputs": []
    },
    {
      "metadata": {
        "trusted": true,
        "_uuid": "2877c9ea9ee9877be8f1c3fd38f689100be4c5fc"
      },
      "cell_type": "code",
      "source": "img = image.load_img('../input/training_set/training_set/cats/cat.1.jpg', target_size=(150,150))\nX = image.img_to_array(img)\nX = X.reshape((1,150,150,3))",
      "execution_count": null,
      "outputs": []
    },
    {
      "metadata": {
        "trusted": true,
        "_uuid": "ef7bb616a3a60430effe10511ccb11cd85858602"
      },
      "cell_type": "code",
      "source": "i = 0\nplt.figure(figsize=(10,8))\nfor batch in datagen.flow(X, batch_size=1):\n#     print(batch.shape)\n    plt.subplot(221+i)\n    plt.imshow(image.array_to_img(batch[0]))\n    \n    i += 1\n    if i%4 == 0:\n        break",
      "execution_count": null,
      "outputs": []
    },
    {
      "metadata": {
        "trusted": true,
        "_uuid": "8660756e1387bab6243f87f55837b37638af71a5"
      },
      "cell_type": "code",
      "source": "train_datagen = image.ImageDataGenerator(rescale=1./255,\n                                   rotation_range= 40,\n                                   width_shift_range = 0.2,\n                                   height_shift_range = 0.2,\n                                   shear_range = 0.2,\n                                   zoom_range = 0.2,\n                                   horizontal_flip = True)\n\ntrain = train_datagen.flow_from_directory(train_dir,\n                                         target_size=(150,150), \n                                         batch_size=32,\n                                         class_mode='binary')\n\ntest_datagen = image.ImageDataGenerator(rescale=1./255,\n                                   rotation_range= 40,\n                                   width_shift_range = 0.2,\n                                   height_shift_range = 0.2,\n                                   shear_range = 0.2,\n                                   zoom_range = 0.2,\n                                   horizontal_flip = True)\n\ntest = test_datagen.flow_from_directory(test_dir,\n                                       target_size=(150,150),\n                                       batch_size=32,\n                                       class_mode= 'binary')",
      "execution_count": null,
      "outputs": []
    },
    {
      "metadata": {
        "trusted": true,
        "_uuid": "93370cb588a404343cf66e05eda8c6750e1c9821"
      },
      "cell_type": "code",
      "source": "model = Sequential()\nmodel.add(Conv2D(32, (3,3), activation='relu', input_shape=(150, 150, 3)))\nmodel.add(MaxPool2D(2,2))\nmodel.add(Conv2D(64, (3,3), activation='relu'))\nmodel.add(MaxPool2D(2,2))\nmodel.add(Conv2D(128, (3,3), activation='relu'))\nmodel.add(Conv2D(128, (3,3), activation='relu'))\nmodel.add(MaxPool2D(2,2))\nmodel.add(Dropout(0.2))\nmodel.add(Flatten())\n\nmodel.add(Dense(512, activation='relu'))\nmodel.add(Dense(64, activation='relu'))\nmodel.add(Dense(1, activation='sigmoid'))",
      "execution_count": null,
      "outputs": []
    },
    {
      "metadata": {
        "trusted": true,
        "_uuid": "dca19b8902d335fa9213e1acb42fd0cfdb366bd3"
      },
      "cell_type": "code",
      "source": "model.compile(Adam(0.00001), 'binary_crossentropy', metrics=['acc'])\n\nmodel.fit_generator(train, steps_per_epoch=100, epochs=10, validation_data=test, validation_steps=20)",
      "execution_count": null,
      "outputs": []
    },
    {
      "metadata": {
        "trusted": true,
        "_uuid": "0400461862fccbcd89d7b0d8cee9cea8a06d3501"
      },
      "cell_type": "code",
      "source": "plt.plot(range(10), model.history.history['acc'])\nplt.plot(range(10), model.history.history['val_acc'])\nplt.legend(['acc', 'val_acc'])",
      "execution_count": null,
      "outputs": []
    },
    {
      "metadata": {
        "trusted": true,
        "_uuid": "8ebcb959787552ad43ba47e5f61ff4451c7ea2b1"
      },
      "cell_type": "code",
      "source": "model.save('cat_dog.h5')",
      "execution_count": null,
      "outputs": []
    },
    {
      "metadata": {
        "trusted": true,
        "_uuid": "c65137cda2cae91bfc0fd352165215ff7e546c22"
      },
      "cell_type": "code",
      "source": "",
      "execution_count": null,
      "outputs": []
    }
  ],
  "metadata": {
    "kernelspec": {
      "display_name": "Python 3",
      "language": "python",
      "name": "python3"
    },
    "language_info": {
      "name": "python",
      "version": "3.6.6",
      "mimetype": "text/x-python",
      "codemirror_mode": {
        "name": "ipython",
        "version": 3
      },
      "pygments_lexer": "ipython3",
      "nbconvert_exporter": "python",
      "file_extension": ".py"
    }
  },
  "nbformat": 4,
  "nbformat_minor": 1
}